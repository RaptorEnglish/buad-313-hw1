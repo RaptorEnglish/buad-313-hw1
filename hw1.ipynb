{
 "cells": [
  {
   "cell_type": "code",
   "execution_count": 1,
   "metadata": {},
   "outputs": [],
   "source": [
    "import numpy as np\n",
    "from gurobipy import Model, GRB, quicksum"
   ]
  },
  {
   "cell_type": "markdown",
   "metadata": {},
   "source": [
    "Team Members: \n",
    "Sumin Wu (suminwu@usc.edu)\n",
    "Raptor English (rmenglis@usc.edu)"
   ]
  },
  {
   "cell_type": "markdown",
   "metadata": {},
   "source": [
    "a. Decision Variables:\n",
    "\n",
    "let M: Number of Tommy scooters produced per week (units: scooters/week)\n",
    "let T: Number of Trojan scooters produced per week (units: scooters/week)\n",
    "let K: Number of TK scooters produced per week (units: scooters/week)\n",
    "\n",
    "let M_d: Demand of Tommy scooters per week (units: scooters/week)\n",
    "let T_d: Demand of Trojan scooters per week (units: scooters/week)\n",
    "let K_d: Demand of TK scooters per week (units: scooters/week)\n",
    "\n",
    "Let A_w: Number of workers in Station A (units: workers)\n",
    "Let B_w: Number of workers in Station B (units: workers)\n",
    "Let C_w: Number of workers in Station C (units: workers)\n",
    "Let F_w: Number of workers in Final Assembly (units: workers)\n",
    "\n",
    "Let "
   ]
  },
  {
   "cell_type": "code",
   "execution_count": null,
   "metadata": {},
   "outputs": [],
   "source": []
  },
  {
   "cell_type": "markdown",
   "metadata": {},
   "source": [
    "b. Objective Function:\n",
    "How many Tommy scooters, Trojan scooters, and TK scooters to produce in a given week to maximize revenue\n",
    "200T + 150M + 100K \n"
   ]
  },
  {
   "cell_type": "markdown",
   "metadata": {},
   "source": [
    "c. Constraints:"
   ]
  },
  {
   "cell_type": "code",
   "execution_count": null,
   "metadata": {},
   "outputs": [],
   "source": []
  },
  {
   "cell_type": "code",
   "execution_count": 4,
   "metadata": {},
   "outputs": [],
   "source": [
    "# define a gurobipy model m and name it \"scooters\"\n",
    "m = Model(\"scooters\")"
   ]
  },
  {
   "cell_type": "code",
   "execution_count": 7,
   "metadata": {},
   "outputs": [],
   "source": [
    "# add linear decision variables for the inputs of creating the Tommy scooter\n",
    "#let M: Number of Tommy scooters produced per week (units: scooters/week)\n",
    "#let T: Number of Trojan scooters produced per week (units: scooters/week)\n",
    "#let K: Number of TK scooters produced per week (units: scooters/week)\n",
    "M = m.addVar(name=\"M\", vtype=GRB.CONTINUOUS)\n",
    "T = m.addVar(name=\"T\", vtype=GRB.CONTINUOUS)\n",
    "K = m.addVar(name=\"K\", vtype=GRB.CONTINUOUS)\n",
    "\n",
    "#create variable M_d: Demand of Tommy scooters per week (units: scooters/week)\n",
    "#let T_d: Demand of Trojan scooters per week (units: scooters/week)\n",
    "#let K_d: Demand of TK scooters per week (units: scooters/week)\n",
    "M_d = m.addVar(name=\"M_d\", vtype=GRB.CONTINUOUS)\n",
    "T_d = m.addVar(name=\"T_d\", vtype=GRB.CONTINUOUS)\n",
    "K_d = m.addVar(name=\"K_d\", vtype=GRB.CONTINUOUS)\n",
    "\n"
   ]
  },
  {
   "cell_type": "code",
   "execution_count": null,
   "metadata": {},
   "outputs": [],
   "source": [
    "#set the objective function to maimize 200*T + 150*M + 100*K \n",
    "m.setObjective(200*T + 150*M + 100*K, GRB.MAXIMIZE)"
   ]
  },
  {
   "cell_type": "code",
   "execution_count": null,
   "metadata": {},
   "outputs": [],
   "source": []
  }
 ],
 "metadata": {
  "kernelspec": {
   "display_name": "Python 3",
   "language": "python",
   "name": "python3"
  },
  "language_info": {
   "codemirror_mode": {
    "name": "ipython",
    "version": 3
   },
   "file_extension": ".py",
   "mimetype": "text/x-python",
   "name": "python",
   "nbconvert_exporter": "python",
   "pygments_lexer": "ipython3",
   "version": "3.12.7"
  }
 },
 "nbformat": 4,
 "nbformat_minor": 2
}
