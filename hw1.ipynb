{
 "cells": [
  {
   "cell_type": "code",
   "execution_count": 3,
   "metadata": {},
   "outputs": [],
   "source": [
    "import numpy as np\n",
    "from gurobipy import Model, GRB, quicksum"
   ]
  },
  {
   "cell_type": "markdown",
   "metadata": {},
   "source": [
    "Team Members: \n",
    "Sumin Wu (suminwu@usc.edu)\n",
    "Raptor English (rmenglis@usc.edu)"
   ]
  },
  {
   "cell_type": "code",
   "execution_count": 4,
   "metadata": {},
   "outputs": [
    {
     "name": "stdout",
     "output_type": "stream",
     "text": [
      "Set parameter Username\n",
      "Set parameter LicenseID to value 2609531\n",
      "Academic license - for non-commercial use only - expires 2026-01-14\n"
     ]
    }
   ],
   "source": [
    "# define a gurobipy model m and name it \"scooters\"\n",
    "m = Model(\"scooters\")"
   ]
  },
  {
   "cell_type": "markdown",
   "metadata": {},
   "source": [
    "a. Decision Variables:\n",
    "\n",
    "let M: Number of Tommy scooters produced per week (units: scooters/week)\n",
    "let T: Number of Trojan scooters produced per week (units: scooters/week)\n",
    "let K: Number of TK scooters produced per week (units: scooters/week)\n",
    "\n",
    "let M_d: Demand of Tommy scooters per week (units: scooters/week)\n",
    "let T_d: Demand of Trojan scooters per week (units: scooters/week)\n",
    "let K_d: Demand of TK scooters per week (units: scooters/week)\n",
    "\n",
    "Let A_w: Number of workers in Station A (units: workers)\n",
    "Let B_w: Number of workers in Station B (units: workers)\n",
    "Let C_w: Number of workers in Station C (units: workers)\n",
    "Let F_w: Number of workers in Final Assembly (units: workers)\n",
    "\n",
    "Let P_t: processing time for Trojan scooters (mins/scooter)\n",
    "Let P_m: processing time for Tommy scooters(mins/scooter)\n",
    "Let P_k: processing time for TK scooters (mins/scooter)\n",
    "\n"
   ]
  },
  {
   "cell_type": "code",
   "execution_count": 5,
   "metadata": {},
   "outputs": [],
   "source": [
    "# add linear decision variables for the inputs of creating the Tommy scooter\n",
    "#let M: Number of Tommy scooters produced per week (units: scooters/week)\n",
    "#let T: Number of Trojan scooters produced per week (units: scooters/week)\n",
    "#let K: Number of TK scooters produced per week (units: scooters/week)\n",
    "M = m.addVar(name=\"M\", vtype=GRB.CONTINUOUS)\n",
    "T = m.addVar(name=\"T\", vtype=GRB.CONTINUOUS)\n",
    "K = m.addVar(name=\"K\", vtype=GRB.CONTINUOUS)\n",
    "\n",
    "#create variables below:\n",
    "#Let A_w: Number of workers in Station A (units: workers)\n",
    "#Let B_w: Number of workers in Station B (units: workers)\n",
    "#Let C_w: Number of workers in Station C (units: workers)\n",
    "#Let F_w: Number of workers in Final Assembly (units: workers)\n",
    "A_w = m.addVar(name=\"A_w\", vtype=GRB.CONTINUOUS)\n",
    "B_w = m.addVar(name=\"B_w\", vtype=GRB.CONTINUOUS)\n",
    "C_w = m.addVar(name=\"C_w\", vtype=GRB.CONTINUOUS)\n",
    "F_w = m.addVar(name=\"F_w\", vtype=GRB.CONTINUOUS)\n",
    "\n",
    "#Let P_t: processing time for Trojan scooters\n",
    "#Let P_m: processing time for Tommy scooters\n",
    "#Let P_k: processing time for TK scooters\n",
    "P_t = m.addVar(name=\"P_T\", vtype=GRB.CONTINUOUS)\n",
    "P_m = m.addVar(name=\"P_M\", vtype=GRB.CONTINUOUS)\n",
    "P_k = m.addVar(name=\"P_K\", vtype=GRB.CONTINUOUS)\n",
    "\n",
    "\n",
    "\n",
    "\n"
   ]
  },
  {
   "cell_type": "markdown",
   "metadata": {},
   "source": [
    "b. Objective Function:\n",
    "How many Tommy scooters, Trojan scooters, and TK scooters to produce in a given week to maximize revenue\n",
    "200T + 150M + 100K \n"
   ]
  },
  {
   "cell_type": "markdown",
   "metadata": {},
   "source": [
    "c. Constraints:\n",
    "The demand for Tommy scooters is <=180 per week\n",
    "The demand for TK scooters is <=120 per week\n",
    "The demand for Trojan scooters is <=150 per week"
   ]
  },
  {
   "cell_type": "code",
   "execution_count": 7,
   "metadata": {},
   "outputs": [
    {
     "data": {
      "text/plain": [
       "<gurobi.Constr *Awaiting Model Update*>"
      ]
     },
     "execution_count": 7,
     "metadata": {},
     "output_type": "execute_result"
    }
   ],
   "source": [
    "#add demand contraints\n",
    "m.addConstr(M <= 180, \"M_d\")\n",
    "m.addConstr(T <= 150, \"T_d\")\n",
    "m.addConstr(K <= 120, \"K_d\")\n",
    "\n",
    "#make these contrainsts non-negative\n",
    "m.addConstr(M >= 0, \"M_d\")\n",
    "m.addConstr(T >= 0, \"T_d\")\n",
    "m.addConstr(K >= 0, \"K_d\")\n",
    "\n",
    "#add time constraint \n",
    "mins_per_day = 8 * 60\n",
    "mins_per_wk =  5 * mins_per_day\n",
    "\n",
    "#station A\n",
    "A_workers = 3\n",
    "A_time = A_workers * mins_per_wk\n",
    "m.addConstr(A_time >= 16 * M + 20 * T + 0 * K, \"A_time\")\n",
    "\n",
    "#station B\n",
    "B_workers = 5\n",
    "B_time = B_workers * mins_per_wk\n",
    "m.addConstr(15 * T + 12 * M + 10 * K <= B_time, name=\"Station_B_Time\")\n",
    "\n",
    "# station C constraint\n",
    "C_workers = 6\n",
    "C_time = C_workers * mins_per_wk\n",
    "m.addConstr(19 * T + 13 * M + 11 * K <= C_time, name=\"Station_C_Time\")\n",
    "\n",
    "# station F constraint\n",
    "F_workers = 4\n",
    "F_time = F_workers * mins_per_wk\n",
    "m.addConstr(28 * T + 22 * M + 21 * K <= F_time, name=\"Station_F_Time\")\n",
    "\n"
   ]
  },
  {
   "cell_type": "code",
   "execution_count": 10,
   "metadata": {},
   "outputs": [
    {
     "name": "stdout",
     "output_type": "stream",
     "text": [
      "Gurobi Optimizer version 12.0.0 build v12.0.0rc1 (mac64[arm] - Darwin 23.4.0 23E224)\n",
      "\n",
      "CPU model: Apple M1 Pro\n",
      "Thread count: 8 physical cores, 8 logical processors, using up to 8 threads\n",
      "\n",
      "Optimize a model with 16 rows, 10 columns and 23 nonzeros\n",
      "Coefficient statistics:\n",
      "  Matrix range     [1e+00, 3e+01]\n",
      "  Objective range  [1e+02, 2e+02]\n",
      "  Bounds range     [0e+00, 0e+00]\n",
      "  RHS range        [1e+02, 1e+04]\n",
      "LP warm-start: use basis\n",
      "\n",
      "Iteration    Objective       Primal Inf.    Dual Inf.      Time\n",
      "       0    6.3857143e+04   0.000000e+00   0.000000e+00      0s\n",
      "\n",
      "Solved in 0 iterations and 0.01 seconds (0.00 work units)\n",
      "Optimal objective  6.385714286e+04\n",
      "Maximize\n",
      "  150.0 M + 200.0 T + 100.0 K\n",
      "Subject To\n",
      "  M_d: M <= 180\n",
      "  T_d: T <= 150\n",
      "  K_d: K <= 120\n",
      "  M_d: M >= 0\n",
      "  T_d: T >= 0\n",
      "  K_d: K >= 0\n",
      "  M_d: M <= 180\n",
      "  T_d: T <= 150\n",
      "  K_d: K <= 120\n",
      "  M_d: M >= 0\n",
      "  T_d: T >= 0\n",
      "  K_d: K >= 0\n",
      "  A_time: 16.0 M + 20.0 T <= 7200\n",
      "  Station_B_Time: 12.0 M + 15.0 T + 10.0 K <= 12000\n",
      "  Station_C_Time: 13.0 M + 19.0 T + 11.0 K <= 14400\n",
      "  Station_F_Time: 22.0 M + 28.0 T + 21.0 K <= 9600\n"
     ]
    },
    {
     "name": "stderr",
     "output_type": "stream",
     "text": [
      "/var/folders/x3/7wy7pwf915n6zxbg1rtvvclm0000gn/T/ipykernel_6096/195971913.py:4: DeprecationWarning: Model.display() is deprecated\n",
      "  m.display()\n"
     ]
    }
   ],
   "source": [
    "#set the objective function to maimize 200*T + 150*M + 100*K \n",
    "m.setObjective(200*T + 150*M + 100*K, GRB.MAXIMIZE)\n",
    "m.optimize()\n",
    "m.display()"
   ]
  },
  {
   "cell_type": "code",
   "execution_count": 13,
   "metadata": {},
   "outputs": [
    {
     "name": "stdout",
     "output_type": "stream",
     "text": [
      "Optimal Solution\n",
      "Produce 150.0 units of Trojan\n",
      "Produce 180.0 units of Tommy\n",
      "Produce 68.57142857142857 units of TK\n",
      "Optimal Value [Total Revenue]: 63857.142857142855\n"
     ]
    }
   ],
   "source": [
    "if m.status == GRB.OPTIMAL:\n",
    "    print(\"Optimal Solution\")\n",
    "    print(f'Produce {T.x} units of Trojan')\n",
    "    print(f'Produce {M.x} units of Tommy')\n",
    "    print(f'Produce {K.x} units of TK')\n",
    "    print(f'Optimal Value [Total Revenue]: {m.objVal}')\n",
    "else:\n",
    "    print(\"No optimal\")\n",
    "\n",
    "#print values"
   ]
  },
  {
   "cell_type": "code",
   "execution_count": 14,
   "metadata": {},
   "outputs": [
    {
     "name": "stdout",
     "output_type": "stream",
     "text": [
      "Tight constraint: M_d\n",
      "Tight constraint: T_d\n",
      "Tight constraint: M_d\n",
      "Tight constraint: T_d\n",
      "Tight constraint: Station_F_Time\n"
     ]
    }
   ],
   "source": [
    "# Check which constraints are tight\n",
    "for constr in m.getConstrs():\n",
    "    if constr.slack == 0:\n",
    "        print(f\"Tight constraint: {constr.constrName}\")\n"
   ]
  },
  {
   "cell_type": "markdown",
   "metadata": {},
   "source": [
    "Question 2"
   ]
  },
  {
   "cell_type": "markdown",
   "metadata": {},
   "source": [
    "Decision Vars:\n",
    "\n",
    "Let H_B = Hollywood to Beverly Hills (units)\n",
    "Let H_SM = Hollywood to Santa Monica (units)\n",
    "Let H_SL = Hollywood to Silver Lake (units)\n",
    "Let H_W = Hollywood to Westwood (units)\n",
    "Let H_E = Hollywood to Echopark (units)\n",
    "\n",
    "Let V_B = Venice to Beverly Hills (units)\n",
    "Let V_SM = Venice to Santa Monica (units)\n",
    "Let V_SL = Venice to Silver Lake (units)\n",
    "Let V_W = Venice to Westwood(units)\n",
    "Let V_E = Venice to Echopark (units)\n",
    "\n",
    "Let D_B = Downtown LA to Beverly Hills(units)\n",
    "Let D_SM = Downtown LA to Santa Monica (units)\n",
    "Let D_SL = Downtown LA to Silver Lake(units)\n",
    "Let D_W = Downtown LA to Westwood(units)\n",
    "Let D_E = Downtown LA to Echopark (units)\n"
   ]
  },
  {
   "cell_type": "code",
   "execution_count": 15,
   "metadata": {},
   "outputs": [],
   "source": [
    "#create new model\n",
    "m2 = Model(\"amazon\")"
   ]
  },
  {
   "cell_type": "code",
   "execution_count": 16,
   "metadata": {},
   "outputs": [],
   "source": [
    "#create variables\n",
    "H_B = m2.addVar(name=\"H_B\", vtype=GRB.CONTINUOUS)\n",
    "H_SM = m2.addVar(name=\"H_SM\", vtype=GRB.CONTINUOUS)\n",
    "H_SL = m2.addVar(name=\"H_SL\", vtype=GRB.CONTINUOUS)\n",
    "H_W = m2.addVar(name=\"H_W\", vtype=GRB.CONTINUOUS)\n",
    "H_E = m2.addVar(name=\"H_E\", vtype=GRB.CONTINUOUS)\n",
    "\n",
    "V_B = m2.addVar(name=\"V_B\", vtype=GRB.CONTINUOUS)\n",
    "V_SM = m2.addVar(name=\"V_SM\", vtype=GRB.CONTINUOUS)\n",
    "V_SL = m2.addVar(name=\"V_SL\", vtype=GRB.CONTINUOUS)\n",
    "V_W = m2.addVar(name=\"V_W\", vtype=GRB.CONTINUOUS)\n",
    "V_E = m2.addVar(name=\"V_E\", vtype=GRB.CONTINUOUS)\n",
    "\n",
    "D_B = m2.addVar(name=\"D_B\", vtype=GRB.CONTINUOUS)\n",
    "D_SM = m2.addVar(name=\"D_SM\", vtype=GRB.CONTINUOUS)\n",
    "D_SL = m2.addVar(name=\"D_SL\", vtype=GRB.CONTINUOUS)\n",
    "D_W = m2.addVar(name=\"D_W\", vtype=GRB.CONTINUOUS)\n",
    "D_E = m2.addVar(name=\"D_E\", vtype=GRB.CONTINUOUS)\n",
    "\n"
   ]
  },
  {
   "cell_type": "code",
   "execution_count": 18,
   "metadata": {},
   "outputs": [
    {
     "data": {
      "text/plain": [
       "<gurobi.Constr *Awaiting Model Update*>"
      ]
     },
     "execution_count": 18,
     "metadata": {},
     "output_type": "execute_result"
    }
   ],
   "source": [
    "#add contraints for Inventory\n",
    "m2.addConstr(H_B + H_SM + H_SL + H_W + H_E <= 600, \"H_inventory\")\n",
    "#add contraints for Inventory for V\n",
    "m2.addConstr(V_B + V_SM + V_SL + V_W + V_E <= 300, \"V_inventory\")\n",
    "#add contraints for Inventory for D\n",
    "m2.addConstr(D_B + D_SM + D_SL + D_W + D_E <= 200, \"D_inventory\")\n",
    "\n",
    "#add contraints for Demand for B\n",
    "m2.addConstr(D_B+V_B+H_B ==250, \"B_Demand\")\n",
    "#add contraints for Demand for SM\n",
    "m2.addConstr(D_SM+V_SM+H_SM ==150, \"SM_Demand\")\n",
    "#add contraints for Demand for SL\n",
    "m2.addConstr(D_SL+V_SL+H_SL ==310, \"SL_Demand\")\n",
    "#add contraints for Demand for W\n",
    "m2.addConstr(D_W+V_W+H_W ==200, \"W_Demand\")\n",
    "#add contraints for Demand for E\n",
    "m2.addConstr(D_E+V_E+H_E ==50, \"E_Demand\")\n",
    "\n"
   ]
  },
  {
   "cell_type": "markdown",
   "metadata": {},
   "source": [
    "The objective is to minimize the total shipping cost, which is proportional to the distance traveled.\n"
   ]
  },
  {
   "cell_type": "code",
   "execution_count": 20,
   "metadata": {},
   "outputs": [
    {
     "name": "stdout",
     "output_type": "stream",
     "text": [
      "Gurobi Optimizer version 12.0.0 build v12.0.0rc1 (mac64[arm] - Darwin 23.4.0 23E224)\n",
      "\n",
      "CPU model: Apple M1 Pro\n",
      "Thread count: 8 physical cores, 8 logical processors, using up to 8 threads\n",
      "\n",
      "Optimize a model with 16 rows, 15 columns and 60 nonzeros\n",
      "Model fingerprint: 0x025d205b\n",
      "Coefficient statistics:\n",
      "  Matrix range     [1e+00, 1e+00]\n",
      "  Objective range  [4e+00, 2e+01]\n",
      "  Bounds range     [0e+00, 0e+00]\n",
      "  RHS range        [5e+01, 6e+02]\n",
      "Presolve removed 8 rows and 0 columns\n",
      "Presolve time: 0.00s\n",
      "Presolved: 8 rows, 15 columns, 30 nonzeros\n",
      "\n",
      "Iteration    Objective       Primal Inf.    Dual Inf.      Time\n",
      "       0    6.0858000e+03   6.250000e+00   0.000000e+00      0s\n",
      "       2    6.1992000e+03   0.000000e+00   0.000000e+00      0s\n",
      "\n",
      "Solved in 2 iterations and 0.01 seconds (0.00 work units)\n",
      "Optimal objective  6.199200000e+03\n",
      "Optimal solution found:\n",
      "Hollywood -> Beverly: 250.0 units\n",
      "Hollywood -> Santa Monica: 0.0 units\n",
      "Hollywood -> Westwood: 50.0 units\n",
      "Hollywood -> Silver Lake: 300.0 units\n",
      "Hollywood -> Echo Park: 0.0 units\n",
      "Venice -> Beverly: 0.0 units\n",
      "Venice -> Santa Monica: 150.0 units\n",
      "Venice -> Westwood: 150.0 units\n",
      "Venice -> Silver Lake: 0.0 units\n",
      "Venice -> Echo Park: 0.0 units\n",
      "Downtown LA -> Beverly: 0.0 units\n",
      "Downtown LA -> Santa Monica: 0.0 units\n",
      "Downtown LA -> Westwood: 0.0 units\n",
      "Downtown LA -> Silver Lake: 10.0 units\n",
      "Downtown LA -> Echo Park: 50.0 units\n",
      "Total cost: 63857.142857142855\n"
     ]
    }
   ],
   "source": [
    "# create objective function\n",
    "m2.setObjective(\n",
    "    6.94 * H_B + 17.05 * H_SM + 11.24 * H_W + 5.43 * H_SL + 6.48 * H_E +\n",
    "    11.73 * V_B + 4.33 * V_SM + 9.00 * V_W + 21.58 * V_SL + 21.86 * V_E +\n",
    "    14.62 * D_B + 22.64 * D_SM + 18.48 * D_W + 5.57 * D_SL + 4.36 * D_E,\n",
    "    GRB.MINIMIZE\n",
    ")\n",
    "\n",
    "# optimize model\n",
    "m2.optimize()\n",
    "\n",
    "# print results\n",
    "if m2.status == GRB.OPTIMAL:\n",
    "    print(\"Optimal solution found:\")\n",
    "    print(f'Hollywood -> Beverly: {H_B.x} units')\n",
    "    print(f'Hollywood -> Santa Monica: {H_SM.x} units')\n",
    "    print(f'Hollywood -> Westwood: {H_W.x} units')\n",
    "    print(f'Hollywood -> Silver Lake: {H_SL.x} units')\n",
    "    print(f'Hollywood -> Echo Park: {H_E.x} units')\n",
    "\n",
    "    print(f'Venice -> Beverly: {V_B.x} units')\n",
    "    print(f'Venice -> Santa Monica: {V_SM.x} units')\n",
    "    print(f'Venice -> Westwood: {V_W.x} units')\n",
    "    print(f'Venice -> Silver Lake: {V_SL.x} units')\n",
    "    print(f'Venice -> Echo Park: {V_E.x} units')\n",
    "\n",
    "    print(f'Downtown LA -> Beverly: {D_B.x} units')\n",
    "    print(f'Downtown LA -> Santa Monica: {D_SM.x} units')\n",
    "    print(f'Downtown LA -> Westwood: {D_W.x} units')\n",
    "    print(f'Downtown LA -> Silver Lake: {D_SL.x} units')\n",
    "    print(f'Downtown LA -> Echo Park: {D_E.x} units')\n",
    "\n",
    "    print(f'Total cost: {m.objVal}')\n",
    "else:\n",
    "    print(\"No optimal solution found.\")\n"
   ]
  },
  {
   "cell_type": "markdown",
   "metadata": {},
   "source": [
    "Question 3\n"
   ]
  },
  {
   "cell_type": "markdown",
   "metadata": {},
   "source": [
    "#Let T_h be the room temperature (Celsius) in hour, for h = 0.\n",
    "#Let C_h be the amount of cooling effort (in kilowatts) we apply in hour h, for h = 0."
   ]
  },
  {
   "cell_type": "code",
   "execution_count": 22,
   "metadata": {},
   "outputs": [],
   "source": [
    "#create model m3\n",
    "m3 = Model(\"cooling\")"
   ]
  },
  {
   "cell_type": "code",
   "execution_count": 24,
   "metadata": {},
   "outputs": [
    {
     "name": "stdout",
     "output_type": "stream",
     "text": [
      "Gurobi Optimizer version 12.0.0 build v12.0.0rc1 (mac64[arm] - Darwin 23.4.0 23E224)\n",
      "\n",
      "CPU model: Apple M1 Pro\n",
      "Thread count: 8 physical cores, 8 logical processors, using up to 8 threads\n",
      "\n",
      "Optimize a model with 16 rows, 32 columns and 23 nonzeros\n",
      "Model fingerprint: 0xdeb2886e\n",
      "Coefficient statistics:\n",
      "  Matrix range     [5e-01, 1e+00]\n",
      "  Objective range  [1e+00, 1e+00]\n",
      "  Bounds range     [0e+00, 0e+00]\n",
      "  RHS range        [3e+00, 2e+01]\n",
      "Presolve removed 16 rows and 32 columns\n",
      "Presolve time: 0.01s\n",
      "Presolve: All rows and columns removed\n",
      "Iteration    Objective       Primal Inf.    Dual Inf.      Time\n",
      "       0    0.0000000e+00   0.000000e+00   0.000000e+00      0s\n",
      "\n",
      "Solved in 0 iterations and 0.01 seconds (0.00 work units)\n",
      "Optimal objective  0.000000000e+00\n",
      "Optimal solution found:\n",
      "Hour 0: Temperature = 22.0 °C, Cooling effort = 5.6000000000000005 kW\n",
      "Hour 1: Temperature = 0.0 °C, Cooling effort = 0.0 kW\n",
      "Hour 2: Temperature = 3.0000000000000004 °C, Cooling effort = 0.0 kW\n",
      "Hour 3: Temperature = 3.2 °C, Cooling effort = 0.0 kW\n",
      "Hour 4: Temperature = 3.4000000000000004 °C, Cooling effort = 0.0 kW\n",
      "Hour 5: Temperature = 3.6 °C, Cooling effort = 0.0 kW\n",
      "Hour 6: Temperature = 3.7 °C, Cooling effort = 0.0 kW\n",
      "Hour 7: Temperature = 3.6 °C, Cooling effort = 0.0 kW\n",
      "Total cooling effort: 63857.142857142855 kW\n"
     ]
    }
   ],
   "source": [
    "#Desicion Variables:\n",
    "T_0 = m3.addVar(name=\"T_0\", vtype=GRB.CONTINUOUS)\n",
    "T_1 = m3.addVar(name=\"T_1\", vtype=GRB.CONTINUOUS)\n",
    "T_2 = m3.addVar(name=\"T_2\", vtype=GRB.CONTINUOUS)\n",
    "T_3 = m3.addVar(name=\"T_3\", vtype=GRB.CONTINUOUS)\n",
    "T_4 = m3.addVar(name=\"T_4\", vtype=GRB.CONTINUOUS)\n",
    "T_5 = m3.addVar(name=\"T_5\", vtype=GRB.CONTINUOUS)\n",
    "T_6 = m3.addVar(name=\"T_6\", vtype=GRB.CONTINUOUS)\n",
    "T_7 = m3.addVar(name=\"T_7\", vtype=GRB.CONTINUOUS)\n",
    "\n",
    "C_0 = m3.addVar(name=\"C_0\", vtype=GRB.CONTINUOUS)\n",
    "C_1 = m3.addVar(name=\"C_1\", vtype=GRB.CONTINUOUS)\n",
    "C_2 = m3.addVar(name=\"C_2\", vtype=GRB.CONTINUOUS)\n",
    "C_3 = m3.addVar(name=\"C_3\", vtype=GRB.CONTINUOUS)\n",
    "C_4 = m3.addVar(name=\"C_4\", vtype=GRB.CONTINUOUS)\n",
    "C_5 = m3.addVar(name=\"C_5\", vtype=GRB.CONTINUOUS)\n",
    "C_6 = m3.addVar(name=\"C_6\", vtype=GRB.CONTINUOUS)\n",
    "C_7 = m3.addVar(name=\"C_7\", vtype=GRB.CONTINUOUS)\n",
    "\n",
    "#add constraints\n",
    "m3.addConstr(T_0 == 22, \"Initial Temp\")\n",
    "\n",
    "#max temp per hour constraint\n",
    "m3.addConstr(T_1 <= 25, \"MaxTemp1\")\n",
    "m3.addConstr(T_2 <= 25, \"MaxTemp2\")\n",
    "m3.addConstr(T_3 <= 25, \"MaxTemp3\")\n",
    "m3.addConstr(T_4 <= 25, \"MaxTemp4\")\n",
    "m3.addConstr(T_5 <= 25, \"MaxTemp5\")\n",
    "m3.addConstr(T_6 <= 25, \"MaxTemp6\")\n",
    "m3.addConstr(T_7 <= 25, \"MaxTemp7\")\n",
    "\n",
    "# temperature constraints for each hour\n",
    "m3.addConstr(T_1 == T_0 + (0.004 * 150) + (0.1 * 22 - T_0) - (0.5 * C_0))\n",
    "m3.addConstr(T_2 == T_1 + (0.004 * 150) + (0.1 * 24 - T_1) - (0.5 * C_1))\n",
    "m3.addConstr(T_3 == T_2 + (0.004 * 150) + (0.1 * 26 - T_2) - (0.5 * C_2))\n",
    "m3.addConstr(T_4 == T_3 + (0.004 * 150) + (0.1 * 28 - T_3) - (0.5 * C_3))\n",
    "m3.addConstr(T_5 == T_4 + (0.004 * 150) + (0.1 * 30 - T_4) - (0.5 * C_4))\n",
    "m3.addConstr(T_6 == T_5 + (0.004 * 150) + (0.1 * 31 - T_5) - (0.5 * C_5))\n",
    "m3.addConstr(T_7 == T_6 + (0.004 * 150) + (0.1 * 30 - T_6) - (0.5 * C_6))\n",
    "\n",
    "# objective to minimize the amount of cooling\n",
    "m3.setObjective(C_1 + C_2 + C_3 + C_4 + C_5 + C_6 + C_7, GRB.MINIMIZE)\n",
    "\n",
    "# Optimize the model\n",
    "m3.optimize()\n",
    "\n",
    "# Print results\n",
    "if m3.status == GRB.OPTIMAL:\n",
    "    print(\"Optimal solution found:\")\n",
    "    print(f\"Hour 0: Temperature = {T_0.x} °C, Cooling effort = {C_0.x} kW\")\n",
    "    print(f\"Hour 1: Temperature = {T_1.x} °C, Cooling effort = {C_1.x} kW\")\n",
    "    print(f\"Hour 2: Temperature = {T_2.x} °C, Cooling effort = {C_2.x} kW\")\n",
    "    print(f\"Hour 3: Temperature = {T_3.x} °C, Cooling effort = {C_3.x} kW\")\n",
    "    print(f\"Hour 4: Temperature = {T_4.x} °C, Cooling effort = {C_4.x} kW\")\n",
    "    print(f\"Hour 5: Temperature = {T_5.x} °C, Cooling effort = {C_5.x} kW\")\n",
    "    print(f\"Hour 6: Temperature = {T_6.x} °C, Cooling effort = {C_6.x} kW\")\n",
    "    print(f\"Hour 7: Temperature = {T_7.x} °C, Cooling effort = {C_7.x} kW\")\n",
    "    print(f\"Total cooling effort: {m.objVal} kW\")\n",
    "else:\n",
    "    print(\"No optimal solution found.\")\n",
    "\n"
   ]
  },
  {
   "cell_type": "markdown",
   "metadata": {},
   "source": [
    "Objective Function: "
   ]
  }
 ],
 "metadata": {
  "kernelspec": {
   "display_name": "Python 3",
   "language": "python",
   "name": "python3"
  },
  "language_info": {
   "codemirror_mode": {
    "name": "ipython",
    "version": 3
   },
   "file_extension": ".py",
   "mimetype": "text/x-python",
   "name": "python",
   "nbconvert_exporter": "python",
   "pygments_lexer": "ipython3",
   "version": "3.12.7"
  }
 },
 "nbformat": 4,
 "nbformat_minor": 2
}
